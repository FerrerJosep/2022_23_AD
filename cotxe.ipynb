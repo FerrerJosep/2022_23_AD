{
  "nbformat": 4,
  "nbformat_minor": 0,
  "metadata": {
    "colab": {
      "provenance": [],
      "include_colab_link": true
    },
    "kernelspec": {
      "name": "python3",
      "display_name": "Python 3"
    },
    "language_info": {
      "name": "python"
    }
  },
  "cells": [
    {
      "cell_type": "markdown",
      "metadata": {
        "id": "view-in-github",
        "colab_type": "text"
      },
      "source": [
        "<a href=\"https://colab.research.google.com/github/FerrerJosep/2022_23_AD/blob/main/cotxe.ipynb\" target=\"_parent\"><img src=\"https://colab.research.google.com/assets/colab-badge.svg\" alt=\"Open In Colab\"/></a>"
      ]
    },
    {
      "cell_type": "markdown",
      "source": [
        "### Enunciat de l'exercici\n",
        "\n",
        "**Descripció:**\n",
        "\n",
        "En una fàbrica de cotxes, es desitja implementar un sistema expert per detectar i proposar solucions a diverses peces defectuoses que poden aparèixer durant el procés de fabricació. Utilitzant la biblioteca `experta` de Python, crea un sistema expert que avaluï diferents símptomes i suggereixi solucions adequades.\n",
        "\n",
        "**Símptomes:**\n",
        "\n",
        "Els símptomes que el sistema expert ha de tindre en compte són els següents:\n",
        "- `porta_mal_ajustada` (s1): La porta del cotxe no està correctament alineada.\n",
        "- `tornillos_mal_estat` (s2): Els cargols que subjecten la peça estan desgastats o rovellats.\n",
        "- `vidres_rallats` (s3): Els vidres del cotxe presenten ratllades o danys.\n",
        "- `motor_ruidos` (s4): El motor fa sorolls inusuals durant el funcionament.\n",
        "- `fars_no_funcionen` (s5): Els fars del cotxe no s'encenen o funcionen de manera intermitent.\n",
        "\n",
        "**Regles:**\n",
        "\n",
        "El sistema expert ha de contenir les següents regles per diagnosticar i suggerir solucions a les peces defectuoses:\n",
        "\n",
        "1. Si la `porta_mal_ajustada`, el sistema ha de diagnosticar que cal `reajustar la porta`.\n",
        "2. Si els `tornillos_mal_estat` i la `porta_mal_ajustada`, el sistema ha de diagnosticar que cal `substituir els cargols i reajustar la porta`.\n",
        "3. Si els `vidres_rallats`, el sistema ha de diagnosticar que cal `substituir els vidres`.\n",
        "4. Si el `motor_ruidos`, el sistema ha de diagnosticar que cal `revisar el motor`.\n",
        "5. Si el `motor_ruidos` i els `fars_no_funcionen`, el sistema ha de diagnosticar que cal `realitzar un manteniment complet del vehicle`."
      ],
      "metadata": {
        "id": "zgHB92px1K_B"
      }
    },
    {
      "cell_type": "code",
      "source": [
        "!pip install git+https://github.com/openmotics/om-experta.git"
      ],
      "metadata": {
        "colab": {
          "base_uri": "https://localhost:8080/"
        },
        "id": "BAjtETWk1yL8",
        "outputId": "769d4404-c6ed-4b3f-952c-967d0b89a4f5"
      },
      "execution_count": null,
      "outputs": [
        {
          "output_type": "stream",
          "name": "stdout",
          "text": [
            "Collecting git+https://github.com/openmotics/om-experta.git\n",
            "  Cloning https://github.com/openmotics/om-experta.git to /tmp/pip-req-build-f5z506t1\n",
            "  Running command git clone --filter=blob:none --quiet https://github.com/openmotics/om-experta.git /tmp/pip-req-build-f5z506t1\n",
            "  Resolved https://github.com/openmotics/om-experta.git to commit d35d53708a46482e1ee4e3a4bc1a36bc03492913\n",
            "  Preparing metadata (setup.py) ... \u001b[?25l\u001b[?25hdone\n",
            "Collecting frozendict==2.3.8 (from om-experta==1.9.8)\n",
            "  Downloading frozendict-2.3.8-py311-none-any.whl.metadata (20 kB)\n",
            "Collecting schema==0.6.7 (from om-experta==1.9.8)\n",
            "  Downloading schema-0.6.7-py2.py3-none-any.whl.metadata (14 kB)\n",
            "Downloading frozendict-2.3.8-py311-none-any.whl (14 kB)\n",
            "Downloading schema-0.6.7-py2.py3-none-any.whl (14 kB)\n",
            "Building wheels for collected packages: om-experta\n",
            "  Building wheel for om-experta (setup.py) ... \u001b[?25l\u001b[?25hdone\n",
            "  Created wheel for om-experta: filename=om_experta-1.9.8-py3-none-any.whl size=35883 sha256=cfb3519c019073835370a70fa6ab7f0254395983aa9019efc7c9c6427aab72c5\n",
            "  Stored in directory: /tmp/pip-ephem-wheel-cache-kn6nmeu6/wheels/0f/0d/c3/1438a0d8eef8f10e98a0df42dd1b2394229b633784e9a734f9\n",
            "Successfully built om-experta\n",
            "Installing collected packages: schema, frozendict, om-experta\n",
            "  Attempting uninstall: frozendict\n",
            "    Found existing installation: frozendict 2.4.6\n",
            "    Uninstalling frozendict-2.4.6:\n",
            "      Successfully uninstalled frozendict-2.4.6\n",
            "Successfully installed frozendict-2.3.8 om-experta-1.9.8 schema-0.6.7\n"
          ]
        }
      ]
    },
    {
      "cell_type": "code",
      "execution_count": 1,
      "metadata": {
        "colab": {
          "base_uri": "https://localhost:8080/",
          "height": 399
        },
        "id": "qgysmO1h1KAC",
        "outputId": "2e944f41-e7a7-4c69-c074-2572dabb185f"
      },
      "outputs": [
        {
          "output_type": "error",
          "ename": "ModuleNotFoundError",
          "evalue": "No module named 'experta'",
          "traceback": [
            "\u001b[0;31m---------------------------------------------------------------------------\u001b[0m",
            "\u001b[0;31mModuleNotFoundError\u001b[0m                       Traceback (most recent call last)",
            "\u001b[0;32m<ipython-input-1-69bffacc5f74>\u001b[0m in \u001b[0;36m<cell line: 0>\u001b[0;34m()\u001b[0m\n\u001b[0;32m----> 1\u001b[0;31m \u001b[0;32mfrom\u001b[0m \u001b[0mexperta\u001b[0m \u001b[0;32mimport\u001b[0m \u001b[0mKnowledgeEngine\u001b[0m\u001b[0;34m,\u001b[0m \u001b[0mFact\u001b[0m\u001b[0;34m,\u001b[0m \u001b[0mRule\u001b[0m\u001b[0;34m,\u001b[0m \u001b[0mAND\u001b[0m\u001b[0;34m,\u001b[0m \u001b[0mOR\u001b[0m\u001b[0;34m\u001b[0m\u001b[0;34m\u001b[0m\u001b[0m\n\u001b[0m\u001b[1;32m      2\u001b[0m \u001b[0;34m\u001b[0m\u001b[0m\n\u001b[1;32m      3\u001b[0m \u001b[0;31m# Definició del motor de coneixement\u001b[0m\u001b[0;34m\u001b[0m\u001b[0;34m\u001b[0m\u001b[0m\n\u001b[1;32m      4\u001b[0m \u001b[0;32mclass\u001b[0m \u001b[0mCarFactoryExpertSystem\u001b[0m\u001b[0;34m(\u001b[0m\u001b[0mKnowledgeEngine\u001b[0m\u001b[0;34m)\u001b[0m\u001b[0;34m:\u001b[0m\u001b[0;34m\u001b[0m\u001b[0;34m\u001b[0m\u001b[0m\n\u001b[1;32m      5\u001b[0m \u001b[0;34m\u001b[0m\u001b[0m\n",
            "\u001b[0;31mModuleNotFoundError\u001b[0m: No module named 'experta'",
            "",
            "\u001b[0;31m---------------------------------------------------------------------------\u001b[0;32m\nNOTE: If your import is failing due to a missing package, you can\nmanually install dependencies using either !pip or !apt.\n\nTo view examples of installing some common dependencies, click the\n\"Open Examples\" button below.\n\u001b[0;31m---------------------------------------------------------------------------\u001b[0m\n"
          ],
          "errorDetails": {
            "actions": [
              {
                "action": "open_url",
                "actionText": "Open Examples",
                "url": "/notebooks/snippets/importing_libraries.ipynb"
              }
            ]
          }
        }
      ],
      "source": [
        "from experta import KnowledgeEngine, Fact, Rule, AND, OR\n",
        "\n",
        "# Definició del motor de coneixement\n",
        "class CarFactoryExpertSystem(KnowledgeEngine):\n",
        "\n",
        "    @Rule(Fact(\"porta_mal_ajustada\"))\n",
        "    def adjust_door(self):\n",
        "        self.declare(Fact(\"reajustar la porta\"))\n",
        "        print(\"Diagnòstic: reajustar la porta\")\n",
        "\n",
        "    @Rule(AND(Fact(\"tornillos_mal_estat\"), Fact(\"porta_mal_ajustada\")))\n",
        "    def replace_screws_adjust_door(self):\n",
        "        self.declare(Fact(\"substituir els cargols i reajustar la porta\"))\n",
        "        print(\"Diagnòstic: substituir els cargols i reajustar la porta\")\n",
        "\n",
        "    @Rule(Fact(\"vidres_rallats\"))\n",
        "    def replace_windows(self):\n",
        "        self.declare(Fact(\"substituir els vidres\"))\n",
        "        print(\"Diagnòstic: substituir els vidres\")\n",
        "\n",
        "    @Rule(Fact(\"motor_ruidos\"))\n",
        "    def check_engine(self):\n",
        "        self.declare(Fact(\"revisar el motor\"))\n",
        "        print(\"Diagnòstic: revisar el motor\")\n",
        "\n",
        "    @Rule(AND(Fact(\"motor_ruidos\"), Fact(\"fars_no_funcionen\")))\n",
        "    def full_maintenance(self):\n",
        "        self.declare(Fact(\"realitzar un manteniment complet del vehicle\"))\n",
        "        print(\"Diagnòstic: realitzar un manteniment complet del vehicle\")\n",
        "\n",
        "# Creació del sistema expert i declaració dels símptomes\n",
        "engine = CarFactoryExpertSystem()\n",
        "engine.reset()\n",
        "\n",
        "# Declaració dels símptomes\n",
        "engine.declare(Fact(\"porta_mal_ajustada\"))\n",
        "engine.declare(Fact(\"tornillos_mal_estat\"))\n",
        "\n",
        "# Execució del motor de coneixement\n",
        "engine.run()\n",
        "\n",
        "# Imprimir els fets que té el motor de coneixement\n",
        "print(\"Fets en el motor de coneixement:\")\n",
        "for fact in engine.facts:\n",
        "    print(engine.facts[fact])\n"
      ]
    },
    {
      "cell_type": "code",
      "source": [
        "#Diagnòstic esperat: Reajustar la porta."
      ],
      "metadata": {
        "id": "17BBuJSM1g5g"
      },
      "execution_count": null,
      "outputs": []
    },
    {
      "cell_type": "code",
      "source": [
        "#Diagnòstic esperat: Substituir els cargols i reajustar la porta."
      ],
      "metadata": {
        "id": "WDQ6yukE1iK5"
      },
      "execution_count": null,
      "outputs": []
    },
    {
      "cell_type": "code",
      "source": [
        "#Diagnòstic esperat: Substituir els vidres."
      ],
      "metadata": {
        "id": "xJ9RZ1YM1lpT"
      },
      "execution_count": null,
      "outputs": []
    },
    {
      "cell_type": "code",
      "source": [
        "#Diagnòstic esperat: Revisar el motor."
      ],
      "metadata": {
        "id": "pltriKfI1q1g"
      },
      "execution_count": null,
      "outputs": []
    },
    {
      "cell_type": "code",
      "source": [
        "#Diagnòstic esperat: Realitzar un manteniment complet del vehicle."
      ],
      "metadata": {
        "id": "3hnCV2wq1r8I"
      },
      "execution_count": null,
      "outputs": []
    }
  ]
}